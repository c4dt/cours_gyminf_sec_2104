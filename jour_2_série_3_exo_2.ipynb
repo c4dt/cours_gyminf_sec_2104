{
  "nbformat": 4,
  "nbformat_minor": 5,
  "metadata": {
    "language_info": {
      "name": "python",
      "version": "3.7.8",
      "mimetype": "text/x-python",
      "codemirror_mode": {
        "name": "ipython",
        "version": 3
      },
      "pygments_lexer": "ipython3",
      "nbconvert_exporter": "python",
      "file_extension": ".py"
    },
    "kernelspec": {
      "name": "python3",
      "display_name": "Python 3",
      "language": "python"
    },
    "colab": {
      "name": "jour_2_série_3_exo_2.ipynb",
      "provenance": [],
      "collapsed_sections": []
    }
  },
  "cells": [
    {
      "cell_type": "markdown",
      "metadata": {
        "id": "OJkcQuONXhj4"
      },
      "source": [
        "# Série 3\n",
        "\n",
        "Dans cette série on verra quelques fonctions de chiffrage. On va commencer avec les plus simples pour passer aux chiffrages utilisés de nos jours."
      ],
      "id": "OJkcQuONXhj4"
    },
    {
      "cell_type": "markdown",
      "metadata": {
        "id": "xc0a_EOTck4x"
      },
      "source": [
        "# Exercice 2\n",
        "\n",
        "Une application très célèbre dans les cercles de nerds informatiques est le [ECB Penguin](https://blog.filippo.io/the-ecb-penguin/) qui tient son nom du mode opératoire ECB (Electronic CodeBook), qui est très insécure sous certaines conditions.\n",
        "\n",
        "## 1. Connaissance\n",
        "\n",
        "Il faut faire quelques contorsions pour arriver à bien travailler avec les images et de pouvoir chiffrer le pinguin pour retrouver sa beauté.\n",
        "\n",
        "![Tux](./tux.png)\n",
        "\n",
        "## 2. Compréhension\n",
        "\n",
        "## 3. Application\n",
        "\n"
      ],
      "id": "xc0a_EOTck4x"
    },
    {
      "cell_type": "code",
      "metadata": {
        "id": "4qOznnPDckVh",
        "colab": {
          "base_uri": "https://localhost:8080/",
          "height": 317
        },
        "outputId": "2c7cfedc-2f2c-4781-ce24-9cffc17dc325"
      },
      "source": [
        "# Exercice 1 - Partie 1\n",
        "from IPython import display\n",
        "display.Image(\"./tux.png\")\n",
        "\n",
        "import PIL.Image\n",
        "\n",
        "PIL.Image.open(\"./tux.png\")\n"
      ],
      "id": "4qOznnPDckVh",
      "execution_count": 6,
      "outputs": [
        {
          "output_type": "error",
          "ename": "FileNotFoundError",
          "evalue": "ignored",
          "traceback": [
            "\u001b[0;31m---------------------------------------------------------------------------\u001b[0m",
            "\u001b[0;31mFileNotFoundError\u001b[0m                         Traceback (most recent call last)",
            "\u001b[0;32m<ipython-input-6-771c0ac77249>\u001b[0m in \u001b[0;36m<module>\u001b[0;34m()\u001b[0m\n\u001b[1;32m      5\u001b[0m \u001b[0;32mimport\u001b[0m \u001b[0mPIL\u001b[0m\u001b[0;34m.\u001b[0m\u001b[0mImage\u001b[0m\u001b[0;34m\u001b[0m\u001b[0;34m\u001b[0m\u001b[0m\n\u001b[1;32m      6\u001b[0m \u001b[0;34m\u001b[0m\u001b[0m\n\u001b[0;32m----> 7\u001b[0;31m \u001b[0mPIL\u001b[0m\u001b[0;34m.\u001b[0m\u001b[0mImage\u001b[0m\u001b[0;34m.\u001b[0m\u001b[0mopen\u001b[0m\u001b[0;34m(\u001b[0m\u001b[0;34m\"./tux.png\"\u001b[0m\u001b[0;34m)\u001b[0m\u001b[0;34m\u001b[0m\u001b[0;34m\u001b[0m\u001b[0m\n\u001b[0m",
            "\u001b[0;32m/usr/local/lib/python3.7/dist-packages/PIL/Image.py\u001b[0m in \u001b[0;36mopen\u001b[0;34m(fp, mode)\u001b[0m\n\u001b[1;32m   2841\u001b[0m \u001b[0;34m\u001b[0m\u001b[0m\n\u001b[1;32m   2842\u001b[0m     \u001b[0;32mif\u001b[0m \u001b[0mfilename\u001b[0m\u001b[0;34m:\u001b[0m\u001b[0;34m\u001b[0m\u001b[0;34m\u001b[0m\u001b[0m\n\u001b[0;32m-> 2843\u001b[0;31m         \u001b[0mfp\u001b[0m \u001b[0;34m=\u001b[0m \u001b[0mbuiltins\u001b[0m\u001b[0;34m.\u001b[0m\u001b[0mopen\u001b[0m\u001b[0;34m(\u001b[0m\u001b[0mfilename\u001b[0m\u001b[0;34m,\u001b[0m \u001b[0;34m\"rb\"\u001b[0m\u001b[0;34m)\u001b[0m\u001b[0;34m\u001b[0m\u001b[0;34m\u001b[0m\u001b[0m\n\u001b[0m\u001b[1;32m   2844\u001b[0m         \u001b[0mexclusive_fp\u001b[0m \u001b[0;34m=\u001b[0m \u001b[0;32mTrue\u001b[0m\u001b[0;34m\u001b[0m\u001b[0;34m\u001b[0m\u001b[0m\n\u001b[1;32m   2845\u001b[0m \u001b[0;34m\u001b[0m\u001b[0m\n",
            "\u001b[0;31mFileNotFoundError\u001b[0m: [Errno 2] No such file or directory: './tux.png'"
          ]
        }
      ]
    },
    {
      "cell_type": "code",
      "metadata": {
        "id": "9HYfk1lTc7Hp"
      },
      "source": [
        "# Exercice 1 - Partie 2"
      ],
      "id": "9HYfk1lTc7Hp",
      "execution_count": null,
      "outputs": []
    },
    {
      "cell_type": "code",
      "metadata": {
        "id": "-Fk-3jvpdEcq"
      },
      "source": [
        "# Exercice 1 - Partie 3"
      ],
      "id": "-Fk-3jvpdEcq",
      "execution_count": null,
      "outputs": []
    }
  ]
}