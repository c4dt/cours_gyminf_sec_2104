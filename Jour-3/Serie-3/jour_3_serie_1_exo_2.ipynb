{
 "cells": [
  {
   "cell_type": "markdown",
   "id": "85bcd0df",
   "metadata": {
    "button": false,
    "deletable": true,
    "id": "OJkcQuONXhj4",
    "new_sheet": false,
    "run_control": {
     "read_only": false
    }
   },
   "source": [
    "# Série 3\n",
    "\n",
    "Dans cette série on va voir les certificats CA de certains sites et les regarder dans plus de détails. "
   ]
  },
  {
   "cell_type": "markdown",
   "id": "3a8b258a",
   "metadata": {
    "button": false,
    "deletable": true,
    "id": "xc0a_EOTck4x",
    "new_sheet": false,
    "run_control": {
     "read_only": false
    }
   },
   "source": [
    "# Exercice 1\n",
    "\n",
    "On va faire quelques requêtes SSL vers des sites pour voir comment ils répondent.\n",
    "\n",
    "## 1. Connaissance\n",
    "\n",
    "La façon la plus simple de faire ces connexions est en fait d'utiliser le navigateur. \n",
    "Autant Mozilla Firefox, Chrome, Safari, Edge, vous permettent de montrer les certificats\n",
    "utilisés pour sécuriser le site visité.\n",
    "\n",
    "Donc pour cette première partie, visitez les sites suivants avec votre navigateur, et trouvez:\n",
    "- le nombre de certificats dans la liste\n",
    "- le certificat de base\n",
    "\n",
    "Les sites sont:\n",
    "- https://google.ch\n",
    "- https://google.com\n",
    "- https://moodle.unifr.ch/\n",
    "- https://web.fledg.re\n",
    "\n",
    "Est-ce que vous trouvez le site qui utilise Let's Encrypt?"
   ]
  },
  {
   "cell_type": "markdown",
   "id": "b40e9be9-353c-4077-b9b1-079e6921d358",
   "metadata": {},
   "source": [
    "## 2. Compréhension\n",
    "\n",
    "Utiliser le navigateur est simple, mais en utilisant Python on voit un peu plus comment ça marche.\n",
    "Dans l'exemple en bas, il y a quelques méthods qui ont été créées, tout d'abord ceux-ci:\n",
    "\n",
    "- ´get_connection_chain´ se connecte au serveur indiqué et retourne la connection et la chaîne de certificats - ATTENTION: il faut seulement donner le nom de domaine, pas l'URL complète!\n",
    "- ´dump_cert´ imprime un certificat\n",
    "- ´dump_chain´ imprime toute la chaîne\n",
    "\n",
    "Qu'est-ce que vous observez en lançant le code? Pourquoi c'est différent?\n",
    "\n",
    "Grâce au Python, nous avons aussi de l'information supplémentaire sur la connexion. Essayez les deux adresses suivantes:\n",
    "- https://xkcd.com\n",
    "- https://sssscomic.com\n"
   ]
  },
  {
   "cell_type": "code",
   "execution_count": 3,
   "id": "45919aa3",
   "metadata": {
    "button": false,
    "deletable": true,
    "id": "9HYfk1lTc7Hp",
    "new_sheet": false,
    "run_control": {
     "read_only": false
    }
   },
   "outputs": [
    {
     "name": "stdout",
     "output_type": "stream",
     "text": [
      "Certificate #0\n",
      "Subject b'C': b'US'\n",
      "Subject b'ST': b'California'\n",
      "Subject b'L': b'Mountain View'\n",
      "Subject b'O': b'Google LLC'\n",
      "Subject b'CN': b'*.google.ch'\n",
      "notBefore: b'20210503115919Z'\n",
      "notAfter: b'20210726115918Z'\n",
      "version:2\n",
      "sigAlg: b'sha256WithRSAEncryption'\n",
      "digest: b'5C:F2:4C:8D:BF:22:3A:BF:54:79:B7:C7:49:17:DF:CA:63:EE:AF:3A:92:7D:90:72:36:87:F7:4F:E4:6D:0E:36'\n",
      "issuer: <X509Name object '/C=US/O=Google Trust Services/CN=GTS CA 1O1'>\n",
      "\n",
      "Certificate #1\n",
      "Subject b'C': b'US'\n",
      "Subject b'O': b'Google Trust Services'\n",
      "Subject b'CN': b'GTS CA 1O1'\n",
      "notBefore: b'20170615000042Z'\n",
      "notAfter: b'20211215000042Z'\n",
      "version:2\n",
      "sigAlg: b'sha256WithRSAEncryption'\n",
      "digest: b'95:C0:74:E3:59:02:A1:4A:BD:9D:19:AF:B6:E7:F8:0E:66:9F:F8:E2:36:32:70:53:9D:96:36:13:F0:4A:AA:21'\n",
      "issuer: <X509Name object '/OU=GlobalSign Root CA - R2/O=GlobalSign/CN=GlobalSign'>\n",
      "\n",
      "Cipher name: TLS_AES_256_GCM_SHA384\n",
      "Cipher size: 256\n",
      "Cipher version: TLSv1.3\n",
      "Cipher list: ['TLS_AES_256_GCM_SHA384', 'TLS_CHACHA20_POLY1305_SHA256', 'TLS_AES_128_GCM_SHA256', 'ECDHE-ECDSA-AES256-GCM-SHA384', 'ECDHE-RSA-AES256-GCM-SHA384', 'DHE-RSA-AES256-GCM-SHA384', 'ECDHE-ECDSA-CHACHA20-POLY1305', 'ECDHE-RSA-CHACHA20-POLY1305', 'DHE-RSA-CHACHA20-POLY1305', 'ECDHE-ECDSA-AES128-GCM-SHA256', 'ECDHE-RSA-AES128-GCM-SHA256', 'DHE-RSA-AES128-GCM-SHA256', 'ECDHE-ECDSA-AES256-SHA384', 'ECDHE-RSA-AES256-SHA384', 'DHE-RSA-AES256-SHA256', 'ECDHE-ECDSA-AES128-SHA256', 'ECDHE-RSA-AES128-SHA256', 'DHE-RSA-AES128-SHA256', 'ECDHE-ECDSA-AES256-SHA', 'ECDHE-RSA-AES256-SHA', 'DHE-RSA-AES256-SHA', 'ECDHE-ECDSA-AES128-SHA', 'ECDHE-RSA-AES128-SHA', 'DHE-RSA-AES128-SHA', 'RSA-PSK-AES256-GCM-SHA384', 'DHE-PSK-AES256-GCM-SHA384', 'RSA-PSK-CHACHA20-POLY1305', 'DHE-PSK-CHACHA20-POLY1305', 'ECDHE-PSK-CHACHA20-POLY1305', 'AES256-GCM-SHA384', 'PSK-AES256-GCM-SHA384', 'PSK-CHACHA20-POLY1305', 'RSA-PSK-AES128-GCM-SHA256', 'DHE-PSK-AES128-GCM-SHA256', 'AES128-GCM-SHA256', 'PSK-AES128-GCM-SHA256', 'AES256-SHA256', 'AES128-SHA256', 'ECDHE-PSK-AES256-CBC-SHA384', 'ECDHE-PSK-AES256-CBC-SHA', 'SRP-RSA-AES-256-CBC-SHA', 'SRP-AES-256-CBC-SHA', 'RSA-PSK-AES256-CBC-SHA384', 'DHE-PSK-AES256-CBC-SHA384', 'RSA-PSK-AES256-CBC-SHA', 'DHE-PSK-AES256-CBC-SHA', 'AES256-SHA', 'PSK-AES256-CBC-SHA384', 'PSK-AES256-CBC-SHA', 'ECDHE-PSK-AES128-CBC-SHA256', 'ECDHE-PSK-AES128-CBC-SHA', 'SRP-RSA-AES-128-CBC-SHA', 'SRP-AES-128-CBC-SHA', 'RSA-PSK-AES128-CBC-SHA256', 'DHE-PSK-AES128-CBC-SHA256', 'RSA-PSK-AES128-CBC-SHA', 'DHE-PSK-AES128-CBC-SHA', 'AES128-SHA', 'PSK-AES128-CBC-SHA256', 'PSK-AES128-CBC-SHA']\n"
     ]
    }
   ],
   "source": [
    "# Exercice 1 - Partie 2\n",
    "\n",
    "from OpenSSL import SSL, crypto\n",
    "import socket, certifi\n",
    "\n",
    "def dump_cert(cert):\n",
    "    for component in cert.get_subject().get_components():\n",
    "        print(\"Subject %s: %s\" % (component))\n",
    "             \n",
    "    print(\"notBefore:\", cert.get_notBefore())\n",
    "    print(\"notAfter:\", cert.get_notAfter())\n",
    "    print(\"version:\" + str(cert.get_version()))\n",
    "    print(\"sigAlg:\", cert.get_signature_algorithm())\n",
    "    print(\"digest:\", cert.digest('sha256'))\n",
    "    print(\"issuer:\", cert.get_issuer())\n",
    "    print()\n",
    "    \n",
    "def get_connection_chain(host, port = 443):\n",
    "    dst = (str.encode(host), port)\n",
    "    ctx = SSL.Context(SSL.SSLv23_METHOD)\n",
    "    s = socket.create_connection(dst)\n",
    "    s = SSL.Connection(ctx, s)\n",
    "    s.set_connect_state()\n",
    "    s.set_tlsext_host_name(dst[0])\n",
    "\n",
    "    s.sendall(b'HEAD / HTTP/1.0\\n\\n')\n",
    "    s.recv(16)\n",
    "    return (s, s.get_peer_cert_chain())\n",
    "\n",
    "def dump_chain(chain):\n",
    "    for pos, cert in enumerate(chain):\n",
    "        print(\"Certificate #\" + str(pos))\n",
    "        dump_cert(cert)\n",
    "        \n",
    "def dump_connection(conn):\n",
    "    print(\"Cipher name:\", conn.get_cipher_name())\n",
    "    print(\"Cipher size:\", conn.get_cipher_bits())\n",
    "    print(\"Cipher version:\", conn.get_cipher_version())\n",
    "    print(\"Cipher list:\", conn.get_cipher_list())\n",
    "\n",
    "conn, chain = get_connection_chain(\"google.ch\")\n",
    "dump_chain(chain)\n",
    "dump_connection(conn)"
   ]
  },
  {
   "cell_type": "markdown",
   "id": "8ad44ab3-5ef3-48c3-90fa-feef79f7a7f0",
   "metadata": {},
   "source": [
    "## 3. Application\n",
    "\n",
    "Pour la troisième partie, on va enfin aller chercher le certificat de base. Comme on a vu dans la partie 2, le certificat de base n'est pas envoyé par le site. Ca donne du sens, parce qu'on ne fait à priori pas confiance au site. Donc on ne va pas accepter un certificat qui vient de là.\n",
    "\n",
    "Il faut donc avoir une liste de certificats à qui on fait confiance. Cette liste réside sur votre ordinateur, et peut être récupérée avec ´certifi.where()´.\n",
    "\n",
    "Vous pouvez maintenant utiliser la méthode ´get_root_cert´ sur un des certificats précédents pour vous retourner la chaîne de certificats de base.\n",
    "\n",
    "Question:\n",
    "- pourquoi on donne seulement le dernier élément de la liste (`chain[-1]`)?\n",
    "- pourquoi on reçoit deux certificats à la fin?"
   ]
  },
  {
   "cell_type": "code",
   "execution_count": 5,
   "id": "377d336e",
   "metadata": {
    "button": false,
    "deletable": true,
    "id": "-Fk-3jvpdEcq",
    "new_sheet": false,
    "run_control": {
     "read_only": false
    },
    "tags": []
   },
   "outputs": [
    {
     "ename": "X509StoreContextError",
     "evalue": "[20, 0, 'unable to get local issuer certificate']",
     "output_type": "error",
     "traceback": [
      "\u001b[0;31m---------------------------------------------------------------------------\u001b[0m",
      "\u001b[0;31mX509StoreContextError\u001b[0m                     Traceback (most recent call last)",
      "\u001b[0;32m<ipython-input-5-964fe0512eeb>\u001b[0m in \u001b[0;36m<module>\u001b[0;34m\u001b[0m\n\u001b[1;32m      7\u001b[0m     \u001b[0;32mreturn\u001b[0m \u001b[0mstore_ctx\u001b[0m\u001b[0;34m.\u001b[0m\u001b[0mget_verified_chain\u001b[0m\u001b[0;34m(\u001b[0m\u001b[0;34m)\u001b[0m\u001b[0;34m\u001b[0m\u001b[0;34m\u001b[0m\u001b[0m\n\u001b[1;32m      8\u001b[0m \u001b[0;34m\u001b[0m\u001b[0m\n\u001b[0;32m----> 9\u001b[0;31m \u001b[0mdump_chain\u001b[0m\u001b[0;34m(\u001b[0m\u001b[0mget_root_chain\u001b[0m\u001b[0;34m(\u001b[0m\u001b[0mchain\u001b[0m\u001b[0;34m)\u001b[0m\u001b[0;34m)\u001b[0m\u001b[0;34m\u001b[0m\u001b[0;34m\u001b[0m\u001b[0m\n\u001b[0m",
      "\u001b[0;32m<ipython-input-5-964fe0512eeb>\u001b[0m in \u001b[0;36mget_root_chain\u001b[0;34m(chain)\u001b[0m\n\u001b[1;32m      5\u001b[0m     \u001b[0mstore\u001b[0m\u001b[0;34m.\u001b[0m\u001b[0mload_locations\u001b[0m\u001b[0;34m(\u001b[0m\u001b[0mcertifi\u001b[0m\u001b[0;34m.\u001b[0m\u001b[0mwhere\u001b[0m\u001b[0;34m(\u001b[0m\u001b[0;34m)\u001b[0m\u001b[0;34m)\u001b[0m\u001b[0;34m\u001b[0m\u001b[0;34m\u001b[0m\u001b[0m\n\u001b[1;32m      6\u001b[0m     \u001b[0mstore_ctx\u001b[0m \u001b[0;34m=\u001b[0m \u001b[0mcrypto\u001b[0m\u001b[0;34m.\u001b[0m\u001b[0mX509StoreContext\u001b[0m\u001b[0;34m(\u001b[0m\u001b[0mstore\u001b[0m\u001b[0;34m,\u001b[0m \u001b[0mchain\u001b[0m\u001b[0;34m[\u001b[0m\u001b[0;34m-\u001b[0m\u001b[0;36m2\u001b[0m\u001b[0;34m]\u001b[0m\u001b[0;34m)\u001b[0m\u001b[0;34m\u001b[0m\u001b[0;34m\u001b[0m\u001b[0m\n\u001b[0;32m----> 7\u001b[0;31m     \u001b[0;32mreturn\u001b[0m \u001b[0mstore_ctx\u001b[0m\u001b[0;34m.\u001b[0m\u001b[0mget_verified_chain\u001b[0m\u001b[0;34m(\u001b[0m\u001b[0;34m)\u001b[0m\u001b[0;34m\u001b[0m\u001b[0;34m\u001b[0m\u001b[0m\n\u001b[0m\u001b[1;32m      8\u001b[0m \u001b[0;34m\u001b[0m\u001b[0m\n\u001b[1;32m      9\u001b[0m \u001b[0mdump_chain\u001b[0m\u001b[0;34m(\u001b[0m\u001b[0mget_root_chain\u001b[0m\u001b[0;34m(\u001b[0m\u001b[0mchain\u001b[0m\u001b[0;34m)\u001b[0m\u001b[0;34m)\u001b[0m\u001b[0;34m\u001b[0m\u001b[0;34m\u001b[0m\u001b[0m\n",
      "\u001b[0;32m/usr/local/lib/python3.9/site-packages/OpenSSL/crypto.py\u001b[0m in \u001b[0;36mget_verified_chain\u001b[0;34m(self)\u001b[0m\n\u001b[1;32m   1906\u001b[0m         \u001b[0;32mif\u001b[0m \u001b[0mret\u001b[0m \u001b[0;34m<=\u001b[0m \u001b[0;36m0\u001b[0m\u001b[0;34m:\u001b[0m\u001b[0;34m\u001b[0m\u001b[0;34m\u001b[0m\u001b[0m\n\u001b[1;32m   1907\u001b[0m             \u001b[0mself\u001b[0m\u001b[0;34m.\u001b[0m\u001b[0m_cleanup\u001b[0m\u001b[0;34m(\u001b[0m\u001b[0;34m)\u001b[0m\u001b[0;34m\u001b[0m\u001b[0;34m\u001b[0m\u001b[0m\n\u001b[0;32m-> 1908\u001b[0;31m             \u001b[0;32mraise\u001b[0m \u001b[0mself\u001b[0m\u001b[0;34m.\u001b[0m\u001b[0m_exception_from_context\u001b[0m\u001b[0;34m(\u001b[0m\u001b[0;34m)\u001b[0m\u001b[0;34m\u001b[0m\u001b[0;34m\u001b[0m\u001b[0m\n\u001b[0m\u001b[1;32m   1909\u001b[0m \u001b[0;34m\u001b[0m\u001b[0m\n\u001b[1;32m   1910\u001b[0m         \u001b[0;31m# Note: X509_STORE_CTX_get1_chain returns a deep copy of the chain.\u001b[0m\u001b[0;34m\u001b[0m\u001b[0;34m\u001b[0m\u001b[0;34m\u001b[0m\u001b[0m\n",
      "\u001b[0;31mX509StoreContextError\u001b[0m: [20, 0, 'unable to get local issuer certificate']"
     ]
    }
   ],
   "source": [
    "# Exercice 1 - Partie 3\n",
    "\n",
    "def get_root_chain(chain):\n",
    "    store = crypto.X509Store()\n",
    "    store.load_locations(certifi.where())\n",
    "    store_ctx = crypto.X509StoreContext(store, chain[-2])\n",
    "    return store_ctx.get_verified_chain()\n",
    "\n",
    "dump_chain(get_root_chain(chain))\n"
   ]
  },
  {
   "cell_type": "code",
   "execution_count": null,
   "id": "36c653fe-6ed3-426e-aaec-018b3c230ea5",
   "metadata": {},
   "outputs": [],
   "source": []
  }
 ],
 "metadata": {
  "colab": {
   "collapsed_sections": [],
   "name": "jour_2_série_3_exo_2.ipynb",
   "provenance": []
  },
  "kernelspec": {
   "display_name": "Python 3",
   "language": "python",
   "name": "python3"
  },
  "language_info": {
   "codemirror_mode": {
    "name": "ipython",
    "version": 3
   },
   "file_extension": ".py",
   "mimetype": "text/x-python",
   "name": "python",
   "nbconvert_exporter": "python",
   "pygments_lexer": "ipython3",
   "version": "3.9.4"
  }
 },
 "nbformat": 4,
 "nbformat_minor": 5
}
